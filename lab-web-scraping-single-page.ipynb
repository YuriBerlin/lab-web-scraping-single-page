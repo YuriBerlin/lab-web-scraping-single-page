{
 "cells": [
  {
   "cell_type": "code",
   "execution_count": 42,
   "id": "1f1507cd",
   "metadata": {},
   "outputs": [],
   "source": [
    "from bs4 import BeautifulSoup\n",
    "import requests\n",
    "import re\n",
    "import pandas as pd"
   ]
  },
  {
   "cell_type": "code",
   "execution_count": 3,
   "id": "8d3c0dd2",
   "metadata": {},
   "outputs": [
    {
     "data": {
      "text/plain": [
       "200"
      ]
     },
     "execution_count": 3,
     "metadata": {},
     "output_type": "execute_result"
    }
   ],
   "source": [
    "r = requests.get('https://www.billboard.com/charts/hot-100/')\n",
    "r.status_code"
   ]
  },
  {
   "cell_type": "code",
   "execution_count": 4,
   "id": "109f7aa7",
   "metadata": {},
   "outputs": [],
   "source": [
    "html = r.content"
   ]
  },
  {
   "cell_type": "code",
   "execution_count": 5,
   "id": "335ad63d",
   "metadata": {},
   "outputs": [],
   "source": [
    "soup = BeautifulSoup(html, 'html.parser')"
   ]
  },
  {
   "cell_type": "code",
   "execution_count": 39,
   "id": "3d0c32f0",
   "metadata": {
    "scrolled": false
   },
   "outputs": [],
   "source": [
    "#soup.find_all('li', attrs={'class': 'lrv-u-width-100p'})"
   ]
  },
  {
   "cell_type": "code",
   "execution_count": 41,
   "id": "b6237fa6",
   "metadata": {},
   "outputs": [],
   "source": [
    "#soup.find_all('h3', attrs={\"class\":re.compile(\"c-title a-no-trucate a-font-primary-bold-s u-letter-spacing-0021\"),\n",
    "#                          \"id\":\"title-of-a-story\"})"
   ]
  },
  {
   "cell_type": "code",
   "execution_count": 79,
   "id": "4dcc64f6",
   "metadata": {},
   "outputs": [
    {
     "data": {
      "text/html": [
       "<div>\n",
       "<style scoped>\n",
       "    .dataframe tbody tr th:only-of-type {\n",
       "        vertical-align: middle;\n",
       "    }\n",
       "\n",
       "    .dataframe tbody tr th {\n",
       "        vertical-align: top;\n",
       "    }\n",
       "\n",
       "    .dataframe thead th {\n",
       "        text-align: right;\n",
       "    }\n",
       "</style>\n",
       "<table border=\"1\" class=\"dataframe\">\n",
       "  <thead>\n",
       "    <tr style=\"text-align: right;\">\n",
       "      <th></th>\n",
       "      <th>Song</th>\n",
       "      <th>Artist</th>\n",
       "    </tr>\n",
       "  </thead>\n",
       "  <tbody>\n",
       "    <tr>\n",
       "      <th>0</th>\n",
       "      <td>We Can't Be Friends (Wait For Your Love)</td>\n",
       "      <td>Ariana Grande</td>\n",
       "    </tr>\n",
       "    <tr>\n",
       "      <th>1</th>\n",
       "      <td>Lose Control</td>\n",
       "      <td>Teddy Swims</td>\n",
       "    </tr>\n",
       "    <tr>\n",
       "      <th>2</th>\n",
       "      <td>Beautiful Things</td>\n",
       "      <td>Benson Boone</td>\n",
       "    </tr>\n",
       "    <tr>\n",
       "      <th>3</th>\n",
       "      <td>Carnival</td>\n",
       "      <td>¥$: Ye &amp; Ty Dolla $ign Featuring Rich The Kid ...</td>\n",
       "    </tr>\n",
       "    <tr>\n",
       "      <th>4</th>\n",
       "      <td>Lovin On Me</td>\n",
       "      <td>Jack Harlow</td>\n",
       "    </tr>\n",
       "    <tr>\n",
       "      <th>...</th>\n",
       "      <td>...</td>\n",
       "      <td>...</td>\n",
       "    </tr>\n",
       "    <tr>\n",
       "      <th>95</th>\n",
       "      <td>Back Then Right Now</td>\n",
       "      <td>Tyler Hubbard</td>\n",
       "    </tr>\n",
       "    <tr>\n",
       "      <th>96</th>\n",
       "      <td>Tourniquet</td>\n",
       "      <td>Zach Bryan</td>\n",
       "    </tr>\n",
       "    <tr>\n",
       "      <th>97</th>\n",
       "      <td>Outskirts</td>\n",
       "      <td>Sam Hunt</td>\n",
       "    </tr>\n",
       "    <tr>\n",
       "      <th>98</th>\n",
       "      <td>Worth It</td>\n",
       "      <td>Offset &amp; Don Toliver</td>\n",
       "    </tr>\n",
       "    <tr>\n",
       "      <th>99</th>\n",
       "      <td>Fuk Sumn</td>\n",
       "      <td>¥$: Ye &amp; Ty Dolla $ign</td>\n",
       "    </tr>\n",
       "  </tbody>\n",
       "</table>\n",
       "<p>100 rows × 2 columns</p>\n",
       "</div>"
      ],
      "text/plain": [
       "                                        Song  \\\n",
       "0   We Can't Be Friends (Wait For Your Love)   \n",
       "1                               Lose Control   \n",
       "2                           Beautiful Things   \n",
       "3                                   Carnival   \n",
       "4                                Lovin On Me   \n",
       "..                                       ...   \n",
       "95                       Back Then Right Now   \n",
       "96                                Tourniquet   \n",
       "97                                 Outskirts   \n",
       "98                                  Worth It   \n",
       "99                                  Fuk Sumn   \n",
       "\n",
       "                                               Artist  \n",
       "0                                       Ariana Grande  \n",
       "1                                         Teddy Swims  \n",
       "2                                        Benson Boone  \n",
       "3   ¥$: Ye & Ty Dolla $ign Featuring Rich The Kid ...  \n",
       "4                                         Jack Harlow  \n",
       "..                                                ...  \n",
       "95                                      Tyler Hubbard  \n",
       "96                                         Zach Bryan  \n",
       "97                                           Sam Hunt  \n",
       "98                               Offset & Don Toliver  \n",
       "99                             ¥$: Ye & Ty Dolla $ign  \n",
       "\n",
       "[100 rows x 2 columns]"
      ]
     },
     "execution_count": 79,
     "metadata": {},
     "output_type": "execute_result"
    }
   ],
   "source": [
    "df = pd.DataFrame(columns = [\"Song\", \"Artist\"])\n",
    "\n",
    "for i in soup.find_all('h3', attrs={\"class\":re.compile(\"c-title a-no-trucate a-font-primary-bold-s u-letter-spacing-0021\"),\n",
    "                           \"id\":\"title-of-a-story\"}):\n",
    "    artist = i.find_next('span').get_text(strip=True)\n",
    "    song = i.get_text(strip=True)\n",
    "    new_row = pd.Series({\"Song\": song, \"Artist\": artist})\n",
    "    df = pd.concat([df, new_row.to_frame().T], ignore_index=True)\n",
    "    \n",
    "df"
   ]
  }
 ],
 "metadata": {
  "kernelspec": {
   "display_name": "Python 3 (ipykernel)",
   "language": "python",
   "name": "python3"
  },
  "language_info": {
   "codemirror_mode": {
    "name": "ipython",
    "version": 3
   },
   "file_extension": ".py",
   "mimetype": "text/x-python",
   "name": "python",
   "nbconvert_exporter": "python",
   "pygments_lexer": "ipython3",
   "version": "3.11.5"
  }
 },
 "nbformat": 4,
 "nbformat_minor": 5
}
